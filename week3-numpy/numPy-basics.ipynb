{
 "cells": [
  {
   "cell_type": "markdown",
   "id": "c1035c30",
   "metadata": {},
   "source": [
    "  ## Demonstration of numPy behaviours"
   ]
  },
  {
   "cell_type": "markdown",
   "id": "13807c4e",
   "metadata": {},
   "source": [
    "These are the notes I've taken based on Brian's tutorial videos. He used the numPy tutorials to demonstrate these concepts, so while the notes here are my own, the code itself generally follows that found in the numPy documentation."
   ]
  },
  {
   "cell_type": "markdown",
   "id": "bc4787ce",
   "metadata": {},
   "source": [
    "### Randomness"
   ]
  },
  {
   "cell_type": "markdown",
   "id": "05b23e7f",
   "metadata": {},
   "source": [
    "One of the core functions of numPy is generating random sets of data. The random() function generates either 32-bit or 64-bit floats, whereas as the integers() function can be used for integers."
   ]
  },
  {
   "cell_type": "code",
   "execution_count": 1,
   "id": "add88c8e",
   "metadata": {},
   "outputs": [
    {
     "name": "stdout",
     "output_type": "stream",
     "text": [
      "0.7243075511403093\n"
     ]
    }
   ],
   "source": [
    "import numpy as np\n",
    "rng = np.random.default_rng()\n",
    "first = rng.random()\n",
    "print(first)"
   ]
  },
  {
   "cell_type": "markdown",
   "id": "6e213534",
   "metadata": {},
   "source": [
    "Adding a `size` will determine the number of random items returned. Size is the default first parameter so simply typing the number will suffice."
   ]
  },
  {
   "cell_type": "code",
   "execution_count": 2,
   "id": "61ac0296",
   "metadata": {},
   "outputs": [
    {
     "data": {
      "text/plain": [
       "array([0.6593145 , 0.6564325 , 0.22833384, 0.86226895, 0.52400018])"
      ]
     },
     "execution_count": 2,
     "metadata": {},
     "output_type": "execute_result"
    }
   ],
   "source": [
    "rng.random(5)"
   ]
  },
  {
   "cell_type": "markdown",
   "id": "1534b173",
   "metadata": {},
   "source": [
    "Adding a second or third value to the size parameter will return a two- or three-dimension array."
   ]
  },
  {
   "cell_type": "code",
   "execution_count": 3,
   "id": "ace295b5",
   "metadata": {},
   "outputs": [],
   "source": [
    "x = rng.random(size=(5,4,3))"
   ]
  },
  {
   "cell_type": "code",
   "execution_count": 4,
   "id": "3b922061",
   "metadata": {},
   "outputs": [
    {
     "name": "stdout",
     "output_type": "stream",
     "text": [
      "[[[0.05635827 0.07068533 0.04512206]\n",
      "  [0.0430529  0.15601535 0.83992619]\n",
      "  [0.73455843 0.10868102 0.07379058]\n",
      "  [0.19093249 0.12117531 0.96403237]]\n",
      "\n",
      " [[0.13097774 0.78988109 0.21318957]\n",
      "  [0.12161608 0.31045637 0.52140773]\n",
      "  [0.21059689 0.64265524 0.85693862]\n",
      "  [0.94091041 0.54544588 0.9735391 ]]\n",
      "\n",
      " [[0.90588419 0.53094759 0.79113543]\n",
      "  [0.22194356 0.15481711 0.83220822]\n",
      "  [0.81611058 0.88175347 0.1758322 ]\n",
      "  [0.95004313 0.38167495 0.5447969 ]]\n",
      "\n",
      " [[0.27640962 0.59044982 0.45380924]\n",
      "  [0.61089782 0.46795557 0.97602384]\n",
      "  [0.5017801  0.29366662 0.58966797]\n",
      "  [0.33418955 0.33010443 0.92301422]]\n",
      "\n",
      " [[0.83617789 0.58850119 0.69102015]\n",
      "  [0.69123278 0.45089847 0.11171985]\n",
      "  [0.54652799 0.15600513 0.86412741]\n",
      "  [0.99031963 0.18899783 0.76615727]]]\n"
     ]
    }
   ],
   "source": [
    "print(x)"
   ]
  },
  {
   "cell_type": "code",
   "execution_count": 5,
   "id": "0071eb6a",
   "metadata": {},
   "outputs": [],
   "source": [
    "tenk = rng.random(10000)"
   ]
  },
  {
   "cell_type": "markdown",
   "id": "8949d0be",
   "metadata": {},
   "source": [
    "You can then plot these outputs."
   ]
  },
  {
   "cell_type": "code",
   "execution_count": 6,
   "id": "b0292cfb",
   "metadata": {},
   "outputs": [
    {
     "data": {
      "image/png": "[encoded data removed]",
      "text/plain": [
       "<Figure size 432x288 with 1 Axes>"
      ]
     },
     "metadata": {
      "needs_background": "light"
     },
     "output_type": "display_data"
    }
   ],
   "source": [
    "import matplotlib.pyplot as plt\n",
    "plt.hist(tenk)\n",
    "plt.show()"
   ]
  },
  {
   "cell_type": "code",
   "execution_count": 7,
   "id": "684dd1da",
   "metadata": {},
   "outputs": [
    {
     "name": "stdout",
     "output_type": "stream",
     "text": [
      "[0 1 1 1 0 1 0 0 0 0]\n"
     ]
    }
   ],
   "source": [
    "intrng = np.random.default_rng()\n",
    "ints = intrng.integers(2, size=10)\n",
    "print(ints)"
   ]
  },
  {
   "cell_type": "markdown",
   "id": "f1115228",
   "metadata": {},
   "source": [
    "### Distributions"
   ]
  },
  {
   "cell_type": "markdown",
   "id": "cd6a5235",
   "metadata": {},
   "source": [
    "You can shape the random datasets generated with a number of distribution functions. The default distribution so far in this notebook above has been uniform distribution, where items are distributed roughly equally across a dataset. The most familiar other distribution is the bell curve, or normal, distribution.\n",
    "\n",
    "The normal() function takes in three parameters; the first, `loc`, is the distribution's mean, so in an array `[0,0,1,1]` the mean would be 0.5. The second parameter is `scale` which covers the width or standard deviation of the distribution. The final paramter is `size` and is the same as found earlier in the notebook. For a good graphical explanation of this, click [here](https://en.wikipedia.org/wiki/Normal_distribution#Standard_deviation_and_coverage).\n",
    "\n",
    "Often you will see the first two parameters referred to as <i>mu</i> and <i>sigma</i>, these are the Greek terms used in mathematics for the mean average and standard deviation, respectively."
   ]
  },
  {
   "cell_type": "code",
   "execution_count": 8,
   "id": "09c6a087",
   "metadata": {},
   "outputs": [
    {
     "data": {
      "image/png": "[encoded data removed]",
      "text/plain": [
       "<Figure size 432x288 with 1 Axes>"
      ]
     },
     "metadata": {
      "needs_background": "light"
     },
     "output_type": "display_data"
    }
   ],
   "source": [
    "normtest = np.random.normal(loc=0, scale=0.01, size=100000)\n",
    "plt.hist(normtest)\n",
    "plt.show()"
   ]
  },
  {
   "cell_type": "markdown",
   "id": "399103ff",
   "metadata": {},
   "source": [
    "In the chart above, the column immediately to the left and the column immediately to the right of the mean are data that fall within one standard deviation, or one sigma, of the mean.\n",
    "\n",
    "In a normal distribution this will account for 68% of the data, and data within three standard deviations (the three bars either side of the mean) account for 99.7% of data. This makes anything outside this a rarity, as display by the size of the fourth and fifth columns from the mean, the latter of which is often invisible on a small plot."
   ]
  },
  {
   "cell_type": "markdown",
   "id": "3c044978",
   "metadata": {},
   "source": [
    "### Seeding"
   ]
  },
  {
   "cell_type": "markdown",
   "id": "a6ad205e",
   "metadata": {},
   "source": [
    "The seed that a function uses to generator a random sequence is taken from the time the function is run, but it can also be set by the user. This is helpful for creating random numbers that will not change when code is re-run, and is particularly helpful in testing and debugging."
   ]
  },
  {
   "cell_type": "code",
   "execution_count": 17,
   "id": "106fb67c",
   "metadata": {},
   "outputs": [
    {
     "name": "stdout",
     "output_type": "stream",
     "text": [
      "[[0.86479759 0.85530251 0.8110234 ]\n",
      " [0.26144636 0.07719946 0.94646578]\n",
      " [0.61379169 0.00263075 0.91040718]]\n"
     ]
    }
   ],
   "source": [
    "seeded = np.random.default_rng(seed=13)\n",
    "\n",
    "sr = seeded.random((3,3))\n",
    "\n",
    "print(sr)"
   ]
  },
  {
   "cell_type": "markdown",
   "id": "ef530381",
   "metadata": {},
   "source": [
    "Note that no matter how many times the code runs, it always returns the values:\n",
    "    \n",
    "    `[[0.86479759 0.85530251 0.8110234 ]\n",
    "     [0.26144636 0.07719946 0.94646578]\n",
    "     [0.61379169 0.00263075 0.91040718]]\n",
    "    `"
   ]
  },
  {
   "cell_type": "code",
   "execution_count": 22,
   "id": "c740950c",
   "metadata": {},
   "outputs": [
    {
     "data": {
      "image/png": "[encoded data removed]",
      "text/plain": [
       "<Figure size 432x288 with 1 Axes>"
      ]
     },
     "metadata": {
      "needs_background": "light"
     },
     "output_type": "display_data"
    }
   ],
   "source": [
    "plt.plot(sr)\n",
    "plt.show()"
   ]
  },
  {
   "cell_type": "code",
   "execution_count": null,
   "id": "b8516d5b",
   "metadata": {},
   "outputs": [],
   "source": []
  }
 ],
 "metadata": {
  "kernelspec": {
   "display_name": "Python 3 (ipykernel)",
   "language": "python",
   "name": "python3"
  },
  "language_info": {
   "codemirror_mode": {
    "name": "ipython",
    "version": 3
   },
   "file_extension": ".py",
   "mimetype": "text/x-python",
   "name": "python",
   "nbconvert_exporter": "python",
   "pygments_lexer": "ipython3",
   "version": "3.9.12"
  }
 },
 "nbformat": 4,
 "nbformat_minor": 5
}
