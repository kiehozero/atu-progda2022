{
 "cells": [
  {
   "cell_type": "markdown",
   "id": "c1035c30",
   "metadata": {},
   "source": [
    "  ## Demonstration of numPy behaviours"
   ]
  },
  {
   "cell_type": "markdown",
   "id": "13807c4e",
   "metadata": {},
   "source": [
    "These are the notes I've taken based on Brian's tutorial videos. He used the numPy tutorials to demonstrate these concepts, so while the notes here are my own, the code itself generally follows that found in the numPy documentation."
   ]
  },
  {
   "cell_type": "markdown",
   "id": "bc4787ce",
   "metadata": {},
   "source": [
    "### Randomness"
   ]
  },
  {
   "cell_type": "markdown",
   "id": "05b23e7f",
   "metadata": {},
   "source": [
    "One of the core functions of numPy is generating random sets of data. The random() function generates either 32-bit or 64-bit floats, whereas as the integers() function can be used for integers."
   ]
  },
  {
   "cell_type": "code",
   "execution_count": 1,
   "id": "add88c8e",
   "metadata": {},
   "outputs": [
    {
     "name": "stdout",
     "output_type": "stream",
     "text": [
      "0.37356523251421747\n"
     ]
    }
   ],
   "source": [
    "import numpy as np\n",
    "rng = np.random.default_rng()\n",
    "first = rng.random()\n",
    "print(first)"
   ]
  },
  {
   "cell_type": "markdown",
   "id": "6e213534",
   "metadata": {},
   "source": [
    "Adding a `size` will determine the number of random items returned. Size is the default first parameter so simply typing the number will suffice."
   ]
  },
  {
   "cell_type": "code",
   "execution_count": 2,
   "id": "61ac0296",
   "metadata": {},
   "outputs": [
    {
     "data": {
      "text/plain": [
       "array([0.25224404, 0.59187671, 0.39943609, 0.18591375, 0.96334659])"
      ]
     },
     "execution_count": 2,
     "metadata": {},
     "output_type": "execute_result"
    }
   ],
   "source": [
    "rng.random(5)"
   ]
  },
  {
   "cell_type": "markdown",
   "id": "1534b173",
   "metadata": {},
   "source": [
    "Adding a second or third value to the size parameter will return a two- or three-dimension array."
   ]
  },
  {
   "cell_type": "code",
   "execution_count": 3,
   "id": "ace295b5",
   "metadata": {},
   "outputs": [],
   "source": [
    "x = rng.random(size=(5,4,3))"
   ]
  },
  {
   "cell_type": "code",
   "execution_count": 4,
   "id": "3b922061",
   "metadata": {},
   "outputs": [
    {
     "name": "stdout",
     "output_type": "stream",
     "text": [
      "[[[0.94050471 0.9776584  0.26406016]\n",
      "  [0.89892481 0.33818876 0.20734331]\n",
      "  [0.85671366 0.34836772 0.72900253]\n",
      "  [0.34039117 0.72721183 0.63681846]]\n",
      "\n",
      " [[0.65332507 0.13791167 0.85346205]\n",
      "  [0.6293144  0.80963989 0.44626385]\n",
      "  [0.12903211 0.47267538 0.23085581]\n",
      "  [0.85573345 0.39554227 0.14665118]]\n",
      "\n",
      " [[0.63566609 0.12667934 0.77968174]\n",
      "  [0.63334955 0.34066288 0.54538809]\n",
      "  [0.98841261 0.60383335 0.22311677]\n",
      "  [0.43574337 0.46954115 0.94483879]]\n",
      "\n",
      " [[0.37872562 0.3194494  0.15937769]\n",
      "  [0.37925768 0.18994172 0.38969754]\n",
      "  [0.7310994  0.24024994 0.4559568 ]\n",
      "  [0.68163732 0.01013795 0.49863366]]\n",
      "\n",
      " [[0.99655215 0.02781659 0.5010779 ]\n",
      "  [0.98995387 0.54698062 0.97444586]\n",
      "  [0.81018378 0.56236002 0.06793021]\n",
      "  [0.33774716 0.97608292 0.52197183]]]\n"
     ]
    }
   ],
   "source": [
    "print(x)"
   ]
  },
  {
   "cell_type": "code",
   "execution_count": 5,
   "id": "0071eb6a",
   "metadata": {},
   "outputs": [],
   "source": [
    "tenk = rng.random(10000)"
   ]
  },
  {
   "cell_type": "markdown",
   "id": "8949d0be",
   "metadata": {},
   "source": [
    "You can then plot these outputs."
   ]
  },
  {
   "cell_type": "code",
   "execution_count": 6,
   "id": "b0292cfb",
   "metadata": {},
   "outputs": [
    {
     "data": {
      "image/png": "[encoded data removed]",
      "text/plain": [
       "<Figure size 432x288 with 1 Axes>"
      ]
     },
     "metadata": {
      "needs_background": "light"
     },
     "output_type": "display_data"
    }
   ],
   "source": [
    "import matplotlib.pyplot as plt\n",
    "plt.hist(tenk)\n",
    "plt.show()"
   ]
  },
  {
   "cell_type": "code",
   "execution_count": 7,
   "id": "684dd1da",
   "metadata": {},
   "outputs": [
    {
     "name": "stdout",
     "output_type": "stream",
     "text": [
      "[0 0 1 0 1 0 1 1 0 1]\n"
     ]
    }
   ],
   "source": [
    "intrng = np.random.default_rng()\n",
    "ints = intrng.integers(2, size=10)\n",
    "print(ints)"
   ]
  },
  {
   "cell_type": "markdown",
   "id": "f1115228",
   "metadata": {},
   "source": [
    "### Distributions"
   ]
  },
  {
   "cell_type": "markdown",
   "id": "cd6a5235",
   "metadata": {},
   "source": [
    "You can shape the random datasets generated with a number of distribution functions. The default distribution so far in this notebook above has been uniform distribution, where items are distributed roughly equally across a dataset. The most familiar other distribution is the bell curve, or normal, distribution.\n",
    "\n",
    "The normal() function takes in three parameters; the first, `loc`, is the distribution's mean, so in an array `[0,0,1,1]` the mean would be 0.5. The second parameter is `scale` which covers the width or standard deviation of the distribution. The final paramter is `size` and is the same as found earlier in the notebook. For a good graphical explanation of this, click [here](https://en.wikipedia.org/wiki/Normal_distribution#Standard_deviation_and_coverage).\n",
    "\n",
    "Often you will see the first two parameters referred to as <i>mu</i> and <i>sigma</i>, these are the Greek terms used in mathematics for the mean average and standard deviation, respectively."
   ]
  },
  {
   "cell_type": "code",
   "execution_count": 26,
   "id": "09c6a087",
   "metadata": {},
   "outputs": [
    {
     "data": {
      "image/png": "[encoded data removed]",
      "text/plain": [
       "<Figure size 432x288 with 1 Axes>"
      ]
     },
     "metadata": {
      "needs_background": "light"
     },
     "output_type": "display_data"
    }
   ],
   "source": [
    "normtest = np.random.normal(loc=0, scale=0.01, size=100000)\n",
    "plt.hist(normtest)\n",
    "plt.show()"
   ]
  },
  {
   "cell_type": "markdown",
   "id": "399103ff",
   "metadata": {},
   "source": [
    "In the chart above, the column immediately to the left and the column immediately to the right of the mean are data that fall within one standard deviation, or one sigma, of the mean.\n",
    "\n",
    "In a normal distribution this will account for 68% of the data, and data within three standard deviations (the three bars either side of the mean) account for 99.7% of data. This makes anything outside this a rarity, as display by the size of the fourth and fifth columns from the mean, the latter of which is often invisible on a small plot."
   ]
  },
  {
   "cell_type": "code",
   "execution_count": null,
   "id": "2919696e",
   "metadata": {},
   "outputs": [],
   "source": []
  }
 ],
 "metadata": {
  "kernelspec": {
   "display_name": "Python 3 (ipykernel)",
   "language": "python",
   "name": "python3"
  },
  "language_info": {
   "codemirror_mode": {
    "name": "ipython",
    "version": 3
   },
   "file_extension": ".py",
   "mimetype": "text/x-python",
   "name": "python",
   "nbconvert_exporter": "python",
   "pygments_lexer": "ipython3",
   "version": "3.9.12"
  }
 },
 "nbformat": 4,
 "nbformat_minor": 5
}
