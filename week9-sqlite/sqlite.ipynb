{
 "cells": [
  {
   "cell_type": "markdown",
   "id": "cd97b2a2",
   "metadata": {},
   "source": [
    "# Using SQLite with Python\n",
    "\n",
    "Documentation can be found [here](https://docs.python.org/3/library/sqlite3.html)."
   ]
  },
  {
   "cell_type": "code",
   "execution_count": 3,
   "id": "72451541",
   "metadata": {},
   "outputs": [],
   "source": [
    "import pandas as pd\n",
    "import sqlite3 as sq"
   ]
  },
  {
   "cell_type": "markdown",
   "id": "ffa5f565",
   "metadata": {},
   "source": [
    "## Some DB basics\n",
    "\n",
    "SQLite offers persistent storage instead of using RAM, and offers full CRUD support. RAM offers really fast access to data, but as we learnt in the last module, RAM is volatile, so any data disappears at shutdown, and it cannot be accessed by multiple users. SQL still gives fast access to data, but it is stored on the hard drive or external servers; it also allows multiple users to query simultaneously, and and stores data relationally using tables to allow for more efficient storage.\n",
    "\n",
    "SQL gives us relational databases, as opposed to NoSQL, which is a document-based language. The emphasis is on storing data using keys and values to avoid unnecessarily large data being repeated multiple times in a single column.\n",
    "\n",
    "## Comparison between Pandas and SQLite\n",
    "\n",
    "More documentation [here](https://pandas.pydata.org/pandas-docs/stable/getting_started/comparison/comparison_with_sql.html).\n",
    "\n",
    "Storing large datasets in csv becomes problematic when manual updates are required, for example updating addresses where a user is listed multiple times. Queries in SQL get around this by systematically editing data based on select parameters, and you can easily store queries that are re-run when triggered.\n",
    "\n",
    "It is possible to join tables from CSV files based on common values using the `merge` command and the <i>left_on</i>,<i>right_on</i> and <i>how</i> parameters. But SQL allows for relationships between columns that can be referred to when filtering data from different tables, so it's only ever a line of code to do this.\n",
    "\n",
    "\n",
    "## Creating a SQLite database"
   ]
  },
  {
   "cell_type": "code",
   "execution_count": 13,
   "id": "598b5ec4",
   "metadata": {},
   "outputs": [],
   "source": [
    "# follows this tutorial: https://docs.python.org/3/library/sqlite3.html\n",
    "\n",
    "# creates a database if it doesn't already exist, if not just connects to the existing file\n",
    "con = sq.connect(\"tutorial.db\")\n",
    "# all dbs need a cursor to execute statements and return results\n",
    "cur = con.cursor()\n",
    "# execute is an important command, it is how you pass SQL queries to Python\n",
    "cur.execute(\"CREATE TABLE name(name text, address text)\")\n",
    "con.commit()"
   ]
  },
  {
   "cell_type": "code",
   "execution_count": 19,
   "id": "de784352",
   "metadata": {},
   "outputs": [
    {
     "data": {
      "text/plain": [
       "[('name',)]"
      ]
     },
     "execution_count": 19,
     "metadata": {},
     "output_type": "execute_result"
    }
   ],
   "source": [
    "# confirms that table is now in the database\n",
    "cur.execute(\"SELECT name FROM sqlite_master\")\n",
    "cur.fetchall()"
   ]
  },
  {
   "cell_type": "code",
   "execution_count": 24,
   "id": "3e950e07",
   "metadata": {},
   "outputs": [],
   "source": [
    "# insert data into the table\n",
    "cur.execute(\"\"\"\n",
    "    INSERT INTO name VALUES\n",
    "        ('aaaaadasl', 'madrid, spain'),\n",
    "        ('fyhttmnhb', 'porto, portugal'),\n",
    "        ('ddtgryuymns', 'sofia, bulgaria')\n",
    "    \"\"\")\n",
    "con.commit()"
   ]
  },
  {
   "cell_type": "code",
   "execution_count": 25,
   "id": "32fd3085",
   "metadata": {},
   "outputs": [
    {
     "data": {
      "text/plain": [
       "[('ffsjlvdasl', 'cologne, germany'),\n",
       " ('fgggggjk', 'town yetholm, scotland'),\n",
       " ('dkfkgfkgf', 'limerick, ireland'),\n",
       " ('aaaaadasl', 'madrid, spain'),\n",
       " ('fyhttmnhb', 'porto, portugal'),\n",
       " ('ddtgryuymns', 'sofia, bulgaria')]"
      ]
     },
     "execution_count": 25,
     "metadata": {},
     "output_type": "execute_result"
    }
   ],
   "source": [
    "# confirms that data is now in the database\n",
    "cur.execute(\"SELECT * FROM name\")\n",
    "cur.fetchall()"
   ]
  },
  {
   "cell_type": "code",
   "execution_count": 26,
   "id": "ead14484",
   "metadata": {},
   "outputs": [],
   "source": [
    "# delete some data\n",
    "cur.execute(\"DELETE FROM name WHERE name='aaaaadasl'\")\n",
    "con.commit()"
   ]
  },
  {
   "cell_type": "code",
   "execution_count": 27,
   "id": "137c17a5",
   "metadata": {},
   "outputs": [
    {
     "data": {
      "text/plain": [
       "[('ffsjlvdasl', 'cologne, germany'),\n",
       " ('fgggggjk', 'town yetholm, scotland'),\n",
       " ('dkfkgfkgf', 'limerick, ireland'),\n",
       " ('fyhttmnhb', 'porto, portugal'),\n",
       " ('ddtgryuymns', 'sofia, bulgaria')]"
      ]
     },
     "execution_count": 27,
     "metadata": {},
     "output_type": "execute_result"
    }
   ],
   "source": [
    "# confirms that data is now deleted\n",
    "cur.execute(\"SELECT * FROM name\")\n",
    "cur.fetchall()"
   ]
  },
  {
   "cell_type": "code",
   "execution_count": 32,
   "id": "d91ce3a2",
   "metadata": {},
   "outputs": [],
   "source": [
    "# insert lots of items, presumably you can pass csv data through this structure?\n",
    "data = [\n",
    "    (\"grffdfda\",\"reykjavik, iceland\"),\n",
    "    (\"jghuyuyj\",\"brussels, belgium\"),\n",
    "    (\"retrtuykjh\",\"accra, ghana\"),\n",
    "]\n",
    "cur.executemany(\"INSERT INTO name VALUES(?,?)\", data)\n",
    "con.commit()"
   ]
  },
  {
   "cell_type": "code",
   "execution_count": 34,
   "id": "1bf4e499",
   "metadata": {},
   "outputs": [
    {
     "data": {
      "text/plain": [
       "[(1, 'ffsjlvdasl', 'cologne, germany'),\n",
       " (2, 'fgggggjk', 'town yetholm, scotland'),\n",
       " (3, 'dkfkgfkgf', 'limerick, ireland'),\n",
       " (5, 'fyhttmnhb', 'porto, portugal'),\n",
       " (6, 'ddtgryuymns', 'sofia, bulgaria'),\n",
       " (7, 'grffdfda', 'reykjavik, iceland'),\n",
       " (8, 'jghuyuyj', 'brussels, belgium'),\n",
       " (9, 'retrtuykjh', 'accra, ghana'),\n",
       " (10, 'grffdfda', 'reykjavik, iceland'),\n",
       " (11, 'jghuyuyj', 'brussels, belgium'),\n",
       " (12, 'retrtuykjh', 'accra, ghana')]"
      ]
     },
     "execution_count": 34,
     "metadata": {},
     "output_type": "execute_result"
    }
   ],
   "source": [
    "# confirms that executemany was successful, uses ROWID to return primary key\n",
    "cur.execute(\"SELECT ROWID, name, address FROM name\")\n",
    "cur.fetchall()"
   ]
  },
  {
   "cell_type": "markdown",
   "id": "b3a3ffb1",
   "metadata": {},
   "source": [
    "There are a number of duplicates above as I've run the code twice. Some databases wouldn't permit duplicate items but SQLite does, because it uses primary keys to determine whether an item is unique."
   ]
  },
  {
   "cell_type": "code",
   "execution_count": null,
   "id": "d8f60dce",
   "metadata": {},
   "outputs": [],
   "source": []
  },
  {
   "cell_type": "code",
   "execution_count": null,
   "id": "856ad4db",
   "metadata": {},
   "outputs": [],
   "source": []
  },
  {
   "cell_type": "code",
   "execution_count": null,
   "id": "46fc694d",
   "metadata": {},
   "outputs": [],
   "source": []
  },
  {
   "cell_type": "markdown",
   "id": "0e584c9d",
   "metadata": {},
   "source": [
    "https://pandas.pydata.org/pandas-docs/stable/reference/api/pandas.DataFrame.to_sql.html"
   ]
  }
 ],
 "metadata": {
  "kernelspec": {
   "display_name": "Python 3 (ipykernel)",
   "language": "python",
   "name": "python3"
  },
  "language_info": {
   "codemirror_mode": {
    "name": "ipython",
    "version": 3
   },
   "file_extension": ".py",
   "mimetype": "text/x-python",
   "name": "python",
   "nbconvert_exporter": "python",
   "pygments_lexer": "ipython3",
   "version": "3.9.12"
  }
 },
 "nbformat": 4,
 "nbformat_minor": 5
}
