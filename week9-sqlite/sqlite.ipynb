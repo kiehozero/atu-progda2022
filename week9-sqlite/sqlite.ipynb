{
 "cells": [
  {
   "cell_type": "markdown",
   "id": "bed8cef2",
   "metadata": {},
   "source": [
    "# Using SQLite with Python\n",
    "\n",
    "Documentation can be found [here](https://docs.python.org/3/library/sqlite3.html)."
   ]
  },
  {
   "cell_type": "code",
   "execution_count": 3,
   "id": "d4b3aac1",
   "metadata": {},
   "outputs": [],
   "source": [
    "import pandas as pd\n",
    "import sqlite3 as sq"
   ]
  },
  {
   "cell_type": "markdown",
   "id": "7be30f46",
   "metadata": {},
   "source": [
    "## Some DB basics\n",
    "\n",
    "SQLite offers persistent storage instead of using RAM, and offers full CRUD support. RAM offers really fast access to data, but as we learnt in the last module, RAM is volatile, so any data disappears at shutdown, and it cannot be accessed by multiple users. SQL still gives fast access to data, but it is stored on the hard drive or external servers; it also allows multiple users to query simultaneously, and and stores data relationally using tables to allow for more efficient storage.\n",
    "\n",
    "SQL gives us relational databases, as opposed to NoSQL, which is a document-based language. The emphasis is on storing data using keys and values to avoid unnecessarily large data being repeated multiple times in a single column.\n",
    "\n",
    "## Comparison between Pandas and SQLite\n",
    "\n",
    "More documentation [here](https://pandas.pydata.org/pandas-docs/stable/getting_started/comparison/comparison_with_sql.html).\n",
    "\n",
    "Storing large datasets in csv becomes problematic when manual updates are required, for example updating addresses where a user is listed multiple times. Queries in SQL get around this by systematically editing data based on select parameters, and you can easily store queries that are re-run when triggered.\n",
    "\n",
    "It is possible to join tables from CSV files based on common values using the `merge` command and the <i>left_on</i>,<i>right_on</i> and <i>how</i> parameters. But SQL allows for relationships between columns that can be referred to when filtering data from different tables, so it's only ever a line of code to do this.\n",
    "\n",
    "\n",
    "## Creating a SQLite database"
   ]
  },
  {
   "cell_type": "code",
   "execution_count": 4,
   "id": "784ef32d",
   "metadata": {},
   "outputs": [],
   "source": [
    "con = sq.connect(\"tutorial.db\")"
   ]
  },
  {
   "cell_type": "code",
   "execution_count": null,
   "id": "dd03e874",
   "metadata": {},
   "outputs": [],
   "source": []
  }
 ],
 "metadata": {
  "kernelspec": {
   "display_name": "Python 3 (ipykernel)",
   "language": "python",
   "name": "python3"
  },
  "language_info": {
   "codemirror_mode": {
    "name": "ipython",
    "version": 3
   },
   "file_extension": ".py",
   "mimetype": "text/x-python",
   "name": "python",
   "nbconvert_exporter": "python",
   "pygments_lexer": "ipython3",
   "version": "3.9.12"
  }
 },
 "nbformat": 4,
 "nbformat_minor": 5
}
