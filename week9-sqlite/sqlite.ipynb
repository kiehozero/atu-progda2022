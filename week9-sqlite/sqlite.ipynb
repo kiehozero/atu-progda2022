{
 "cells": [
  {
   "cell_type": "markdown",
   "id": "2174db70",
   "metadata": {},
   "source": [
    "# Using SQLite with Python\n",
    "\n",
    "Documentation can be found [here](https://docs.python.org/3/library/sqlite3.html)."
   ]
  },
  {
   "cell_type": "code",
   "execution_count": 3,
   "id": "7dbbb1c1",
   "metadata": {},
   "outputs": [],
   "source": [
    "import pandas as pd\n",
    "import sqlite3 as sq"
   ]
  },
  {
   "cell_type": "markdown",
   "id": "290b1130",
   "metadata": {},
   "source": [
    "## Some DB basics\n",
    "\n",
    "SQLite offers persistent storage instead of using RAM, and offers full CRUD support. RAM offers really fast access to data, but as we learnt in the last module, RAM is volatile, so any data disappears at shutdown, and it cannot be accessed by multiple users. SQL still gives fast access to data, but it is stored on the hard drive or external servers; it also allows multiple users to query simultaneously, and and stores data relationally using tables to allow for more efficient storage.\n",
    "\n",
    "SQL gives us relational databases, as opposed to NoSQL, which is a document-based language. The emphasis is on storing data using keys and values to avoid unnecessarily large data being repeated multiple times in a single column.\n",
    "\n",
    "## Comparison between Pandas and SQLite\n",
    "\n",
    "More documentation [here](https://pandas.pydata.org/pandas-docs/stable/getting_started/comparison/comparison_with_sql.html).\n",
    "\n",
    "Storing large datasets in csv becomes problematic when manual updates are required, for example updating addresses where a user is listed multiple times. Queries in SQL get around this by systematically editing data based on select parameters, and you can easily store queries that are re-run when triggered.\n",
    "\n",
    "It is possible to join tables from CSV files based on common values using the `merge` command and the <i>left_on</i>,<i>right_on</i> and <i>how</i> parameters. But SQL allows for relationships between columns that can be referred to when filtering data from different tables, so it's only ever a line of code to do this.\n",
    "\n",
    "\n",
    "## Creating a SQLite database"
   ]
  },
  {
   "cell_type": "code",
   "execution_count": 13,
   "id": "467d23a1",
   "metadata": {},
   "outputs": [],
   "source": [
    "# follows this tutorial: https://docs.python.org/3/library/sqlite3.html\n",
    "\n",
    "# creates a database if it doesn't already exist, if not just connects to the existing file\n",
    "con = sq.connect(\"tutorial.db\")\n",
    "# all dbs need a cursor to execute statements and return results\n",
    "cur = con.cursor()\n",
    "# execute is an important command, it is how you pass SQL queries to Python\n",
    "cur.execute(\"CREATE TABLE name(name text, address text)\")\n",
    "con.commit()"
   ]
  },
  {
   "cell_type": "code",
   "execution_count": 19,
   "id": "492af3af",
   "metadata": {},
   "outputs": [
    {
     "data": {
      "text/plain": [
       "[('name',)]"
      ]
     },
     "execution_count": 19,
     "metadata": {},
     "output_type": "execute_result"
    }
   ],
   "source": [
    "# confirms that table is now in the database\n",
    "cur.execute(\"SELECT name FROM sqlite_master\")\n",
    "cur.fetchall()"
   ]
  },
  {
   "cell_type": "code",
   "execution_count": 24,
   "id": "f833ce7d",
   "metadata": {},
   "outputs": [],
   "source": [
    "# insert data into the table\n",
    "cur.execute(\"\"\"\n",
    "    INSERT INTO name VALUES\n",
    "        ('aaaaadasl', 'madrid, spain'),\n",
    "        ('fyhttmnhb', 'porto, portugal'),\n",
    "        ('ddtgryuymns', 'sofia, bulgaria')\n",
    "    \"\"\")\n",
    "con.commit()"
   ]
  },
  {
   "cell_type": "code",
   "execution_count": 25,
   "id": "d301e30f",
   "metadata": {},
   "outputs": [
    {
     "data": {
      "text/plain": [
       "[('ffsjlvdasl', 'cologne, germany'),\n",
       " ('fgggggjk', 'town yetholm, scotland'),\n",
       " ('dkfkgfkgf', 'limerick, ireland'),\n",
       " ('aaaaadasl', 'madrid, spain'),\n",
       " ('fyhttmnhb', 'porto, portugal'),\n",
       " ('ddtgryuymns', 'sofia, bulgaria')]"
      ]
     },
     "execution_count": 25,
     "metadata": {},
     "output_type": "execute_result"
    }
   ],
   "source": [
    "# confirms that data is now in the database\n",
    "cur.execute(\"SELECT * FROM name\")\n",
    "cur.fetchall()"
   ]
  },
  {
   "cell_type": "code",
   "execution_count": 26,
   "id": "341e628e",
   "metadata": {},
   "outputs": [],
   "source": [
    "# delete some data\n",
    "cur.execute(\"DELETE FROM name WHERE name='aaaaadasl'\")\n",
    "con.commit()"
   ]
  },
  {
   "cell_type": "code",
   "execution_count": 27,
   "id": "8321e89c",
   "metadata": {},
   "outputs": [
    {
     "data": {
      "text/plain": [
       "[('ffsjlvdasl', 'cologne, germany'),\n",
       " ('fgggggjk', 'town yetholm, scotland'),\n",
       " ('dkfkgfkgf', 'limerick, ireland'),\n",
       " ('fyhttmnhb', 'porto, portugal'),\n",
       " ('ddtgryuymns', 'sofia, bulgaria')]"
      ]
     },
     "execution_count": 27,
     "metadata": {},
     "output_type": "execute_result"
    }
   ],
   "source": [
    "# confirms that data is now deleted\n",
    "cur.execute(\"SELECT * FROM name\")\n",
    "cur.fetchall()"
   ]
  },
  {
   "cell_type": "code",
   "execution_count": 32,
   "id": "c3f4c5ed",
   "metadata": {},
   "outputs": [],
   "source": [
    "# insert lots of items, presumably you can pass csv data through this structure?\n",
    "data = [\n",
    "    (\"grffdfda\",\"reykjavik, iceland\"),\n",
    "    (\"jghuyuyj\",\"brussels, belgium\"),\n",
    "    (\"retrtuykjh\",\"accra, ghana\"),\n",
    "]\n",
    "cur.executemany(\"INSERT INTO name VALUES(?,?)\", data)\n",
    "con.commit()"
   ]
  },
  {
   "cell_type": "code",
   "execution_count": 34,
   "id": "89ab4e7b",
   "metadata": {},
   "outputs": [
    {
     "data": {
      "text/plain": [
       "[(1, 'ffsjlvdasl', 'cologne, germany'),\n",
       " (2, 'fgggggjk', 'town yetholm, scotland'),\n",
       " (3, 'dkfkgfkgf', 'limerick, ireland'),\n",
       " (5, 'fyhttmnhb', 'porto, portugal'),\n",
       " (6, 'ddtgryuymns', 'sofia, bulgaria'),\n",
       " (7, 'grffdfda', 'reykjavik, iceland'),\n",
       " (8, 'jghuyuyj', 'brussels, belgium'),\n",
       " (9, 'retrtuykjh', 'accra, ghana'),\n",
       " (10, 'grffdfda', 'reykjavik, iceland'),\n",
       " (11, 'jghuyuyj', 'brussels, belgium'),\n",
       " (12, 'retrtuykjh', 'accra, ghana')]"
      ]
     },
     "execution_count": 34,
     "metadata": {},
     "output_type": "execute_result"
    }
   ],
   "source": [
    "# confirms that executemany was successful, uses ROWID to return primary key.\n",
    "cur.execute(\"SELECT ROWID, name, address FROM name\")\n",
    "cur.fetchall()"
   ]
  },
  {
   "cell_type": "markdown",
   "id": "e107e9ad",
   "metadata": {},
   "source": [
    "There are a number of duplicates above as I've run the code twice. Some databases wouldn't permit duplicate items but SQLite does, because it uses primary keys to determine whether an item is unique. Just like the other columns, you can use ROWID to specify which items to read, update or delete from the table. When creating a table, you can specify a column to handle the primary key using the command \"CREATE TABLE name(id INTEGER PRIMARY KEY,\" otherwise items will be automatically assigned one by SQLite."
   ]
  },
  {
   "cell_type": "code",
   "execution_count": null,
   "id": "eb14efb6",
   "metadata": {},
   "outputs": [],
   "source": [
    "# importing CSV file "
   ]
  },
  {
   "cell_type": "code",
   "execution_count": null,
   "id": "6391e4c4",
   "metadata": {},
   "outputs": [],
   "source": [
    "data = [\n",
    "    (\"grffdfda\",\"reykjavik, iceland\"),\n",
    "    (\"jghuyuyj\",\"brussels, belgium\"),\n",
    "    (\"retrtuykjh\",\"accra, ghana\"),\n",
    "]\n",
    "cur.executemany(\"INSERT INTO name VALUES(?,?)\", data)\n",
    "con.commit()"
   ]
  },
  {
   "cell_type": "code",
   "execution_count": 38,
   "id": "f9f7dcac",
   "metadata": {},
   "outputs": [
    {
     "ename": "OperationalError",
     "evalue": "no such table: name",
     "output_type": "error",
     "traceback": [
      "\u001b[1;31m---------------------------------------------------------------------------\u001b[0m",
      "\u001b[1;31mOperationalError\u001b[0m                          Traceback (most recent call last)",
      "Input \u001b[1;32mIn [38]\u001b[0m, in \u001b[0;36m<cell line: 2>\u001b[1;34m()\u001b[0m\n\u001b[0;32m      1\u001b[0m \u001b[38;5;66;03m# delete the original table\u001b[39;00m\n\u001b[1;32m----> 2\u001b[0m \u001b[43mcur\u001b[49m\u001b[38;5;241;43m.\u001b[39;49m\u001b[43mexecute\u001b[49m\u001b[43m(\u001b[49m\u001b[38;5;124;43m\"\u001b[39;49m\u001b[38;5;124;43mDROP TABLE name\u001b[39;49m\u001b[38;5;124;43m\"\u001b[39;49m\u001b[43m)\u001b[49m\n\u001b[0;32m      3\u001b[0m cur\u001b[38;5;241m.\u001b[39mfetchall()\n\u001b[0;32m      5\u001b[0m cur\u001b[38;5;241m.\u001b[39mexecute(\u001b[38;5;124m\"\u001b[39m\u001b[38;5;124mSELECT * from name\u001b[39m\u001b[38;5;124m\"\u001b[39m)\n",
      "\u001b[1;31mOperationalError\u001b[0m: no such table: name"
     ]
    }
   ],
   "source": [
    "# delete the original table and confirm that it is gone\n",
    "cur.execute(\"DROP TABLE name\")\n",
    "cur.fetchall()\n",
    "\n",
    "cur.execute(\"SELECT * from name\")\n",
    "cur.fetchall()"
   ]
  },
  {
   "cell_type": "markdown",
   "id": "b87e4f18",
   "metadata": {},
   "source": [
    "Pandas contains SQL tools, documentation [here](https://pandas.pydata.org/pandas-docs/stable/reference/api/pandas.DataFrame.to_sql.html)"
   ]
  },
  {
   "cell_type": "code",
   "execution_count": 39,
   "id": "9cb8b3d7",
   "metadata": {},
   "outputs": [
    {
     "data": {
      "text/plain": [
       "104"
      ]
     },
     "execution_count": 39,
     "metadata": {},
     "output_type": "execute_result"
    }
   ],
   "source": [
    "# create a variable to store the CSV file, and add it to a new table in the datbase\n",
    "people = pd.read_csv(\"name.csv\")\n",
    "people.to_sql(\"name\", con)"
   ]
  },
  {
   "cell_type": "code",
   "execution_count": 40,
   "id": "d9be442d",
   "metadata": {},
   "outputs": [
    {
     "data": {
      "text/plain": [
       "[(0, 'ss', 'Cork'),\n",
       " (1, 'fh', 'Clare'),\n",
       " (2, 'sad', 'Limerick'),\n",
       " (3, 'jjhf', 'Kerry'),\n",
       " (4, 'hgjkh', 'Waterford'),\n",
       " (5, 'faedf a', 'Tipperary'),\n",
       " (6, 'jmhhgfs', 'Kilkenny'),\n",
       " (7, 'feavyt', 'Carlow'),\n",
       " (8, 'jtre', 'Wexford'),\n",
       " (9, 'gt', 'Wicklow'),\n",
       " (10, 'gfdhy', 'Offaly'),\n",
       " (11, 'itr', 'Laois'),\n",
       " (12, 'syt', 'Kildare'),\n",
       " (13, 'are', 'Longford'),\n",
       " (14, 'r7umj', 'Louth'),\n",
       " (15, 'rta', 'Meath'),\n",
       " (16, 'gvwtd', 'Westmeath'),\n",
       " (17, 'uhy', 'Dublin'),\n",
       " (18, '5wg4', 'Sligo'),\n",
       " (19, 'tw', 'Mayo'),\n",
       " (20, 'yhnt', 'Galway'),\n",
       " (21, 'rstbgr', 'Leitrim'),\n",
       " (22, 'gt', 'Roscommon'),\n",
       " (23, 'gnb', 'Donegal'),\n",
       " (24, 'are', 'Cavan'),\n",
       " (25, 'tn', 'Monaghan'),\n",
       " (26, 'gqabr', 'Cork'),\n",
       " (27, 'yhnt', 'Clare'),\n",
       " (28, 'ren', 'Limerick'),\n",
       " (29, 'ythnw', 'Kerry'),\n",
       " (30, 't', 'Waterford'),\n",
       " (31, 'wuhn', 'Tipperary'),\n",
       " (32, 'braen', 'Kilkenny'),\n",
       " (33, 'GRRTAE', 'Carlow'),\n",
       " (34, 'RR', 'FEW'),\n",
       " (35, 'ARA', 'Wicklow'),\n",
       " (36, 'SRDTGYH', 'Offaly'),\n",
       " (37, 'UJB', 'Laois'),\n",
       " (38, 'TVDTAGS', 'Kildare'),\n",
       " (39, 'HBTDH', 'Longford'),\n",
       " (40, 'dfafgha c', 'Louth'),\n",
       " (41, 'GHR', 'Meath'),\n",
       " (42, 'GYH', 'Westmeath'),\n",
       " (43, 'GREAR', 'Dublin'),\n",
       " (44, 'T4WB', 'Sligo'),\n",
       " (45, '5YT', 'Mayo'),\n",
       " (46, 'A4', 'Galway'),\n",
       " (47, '6NJ', 'Leitrim'),\n",
       " (48, '7WYN', 'Roscommon'),\n",
       " (49, 'BU', 'Donegal'),\n",
       " (50, 'HNIMKJN', 'Cavan'),\n",
       " (51, 'BG', 'Monaghan'),\n",
       " (52, 'TVE', 'Cork'),\n",
       " (53, 'SRY', 'Clare'),\n",
       " (54, 'BUJEY', 'Limerick'),\n",
       " (55, 'VYTA', 'Kerry'),\n",
       " (56, ' VTBDYH', 'Waterford'),\n",
       " (57, 'MIMKRJGBRE5', 'Tipperary'),\n",
       " (58, 'ATEV', 'Kilkenny'),\n",
       " (59, 'RBTY', 'Carlow'),\n",
       " (60, 'UBEJ', 'Wexford'),\n",
       " (61, 'HTRS', 'Wicklow'),\n",
       " (62, 'TYHBW', 'Offaly'),\n",
       " (63, 'TBN', 'Laois'),\n",
       " (64, 'UNHQAB', 'Kildare'),\n",
       " (65, '5E5RGT', 'Longford'),\n",
       " (66, 'RAERSB', 'Louth'),\n",
       " (67, 'DTYU', 'Meath'),\n",
       " (68, 'N67', 'Westmeath'),\n",
       " (69, 'BYAT', 'Dublin'),\n",
       " (70, 'RGSTBHGYNH', 'Sligo'),\n",
       " (71, 'IJBHVRSY', 'Mayo'),\n",
       " (72, 'BHV5SEBTU', 'Galway'),\n",
       " (73, 'JHVST', 'Leitrim'),\n",
       " (74, 'BJ N', 'Roscommon'),\n",
       " (75, 'STB D', 'Donegal'),\n",
       " (76, 'JHGVA', 'Cavan'),\n",
       " (77, 'EWATBYSH', 'Monaghan'),\n",
       " (78, 'TM', 'Cork'),\n",
       " (79, 'SJHGV', 'Clare'),\n",
       " (80, 'BDENJMR', 'Limerick'),\n",
       " (81, 'SDHNJY ', 'Kerry'),\n",
       " (82, 'UKMB', 'Waterford'),\n",
       " (83, 'SRNT', 'Tipperary'),\n",
       " (84, 'YSHB ', 'Kilkenny'),\n",
       " (85, 'RVGDB', 'Carlow'),\n",
       " (86, 'TYSHBG', 'Wexford'),\n",
       " (87, 'RBDNY', 'Wicklow'),\n",
       " (88, 'HBGVR', 'Offaly'),\n",
       " (89, 'SYTH ', 'Laois'),\n",
       " (90, 'BVRS', 'Kildare'),\n",
       " (91, 'BYHBVBTNUJN', 'Longford'),\n",
       " (92, 'BVSR', 'Louth'),\n",
       " (93, 'BY', 'Meath'),\n",
       " (94, 'GHDTN', 'Westmeath'),\n",
       " (95, 'UYGSB', 'Dublin'),\n",
       " (96, 'S4BEQ', 'Sligo'),\n",
       " (97, 'R6YNW', 'Mayo'),\n",
       " (98, '5E5RGT', 'Galway'),\n",
       " (99, 'SUY', 'Leitrim'),\n",
       " (100, 'M6UN', 'Roscommon'),\n",
       " (101, 'YIK', 'Donegal'),\n",
       " (102, 'JBH', 'Cavan'),\n",
       " (103, 'YHWVBARWTaec', 'Monaghan')]"
      ]
     },
     "execution_count": 40,
     "metadata": {},
     "output_type": "execute_result"
    }
   ],
   "source": [
    "# confirm that the command ran correctly\n",
    "cur.execute(\"SELECT * from name\")\n",
    "cur.fetchall()"
   ]
  },
  {
   "cell_type": "code",
   "execution_count": 41,
   "id": "5f0028d0",
   "metadata": {},
   "outputs": [
    {
     "data": {
      "text/plain": [
       "26"
      ]
     },
     "execution_count": 41,
     "metadata": {},
     "output_type": "execute_result"
    }
   ],
   "source": [
    "county = pd.read_csv(\"county.csv\")\n",
    "county.to_sql(\"county\", con)"
   ]
  },
  {
   "cell_type": "code",
   "execution_count": 47,
   "id": "78c6fc76",
   "metadata": {},
   "outputs": [
    {
     "data": {
      "text/plain": [
       "37"
      ]
     },
     "execution_count": 47,
     "metadata": {},
     "output_type": "execute_result"
    }
   ],
   "source": [
    "car = pd.read_csv(\"car.csv\")\n",
    "car.to_sql(\"car\", con)"
   ]
  },
  {
   "cell_type": "code",
   "execution_count": null,
   "id": "3c62c499",
   "metadata": {},
   "outputs": [],
   "source": []
  }
 ],
 "metadata": {
  "kernelspec": {
   "display_name": "Python 3 (ipykernel)",
   "language": "python",
   "name": "python3"
  },
  "language_info": {
   "codemirror_mode": {
    "name": "ipython",
    "version": 3
   },
   "file_extension": ".py",
   "mimetype": "text/x-python",
   "name": "python",
   "nbconvert_exporter": "python",
   "pygments_lexer": "ipython3",
   "version": "3.9.12"
  }
 },
 "nbformat": 4,
 "nbformat_minor": 5
}
